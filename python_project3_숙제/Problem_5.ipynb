{
 "cells": [
  {
   "cell_type": "code",
   "execution_count": 72,
   "id": "cc37ad81",
   "metadata": {},
   "outputs": [],
   "source": [
    "import numpy as np"
   ]
  },
  {
   "cell_type": "code",
   "execution_count": null,
   "id": "d9a9d412",
   "metadata": {},
   "outputs": [],
   "source": []
  },
  {
   "cell_type": "code",
   "execution_count": 73,
   "id": "b376b7f8",
   "metadata": {},
   "outputs": [],
   "source": [
    "# Function for LU decomposition\n",
    "\n",
    "def LUdecomposition(A):\n",
    "    n = len(A) # dimension of matrix\n",
    "    L_matrix = np.identity(n) \n",
    "    U_matrix = A.copy()  \n",
    "    U_matrix = U_matrix.astype(float) \n",
    "    if A.shape[0] != A.shape[1]: \n",
    "        raise ValueError(\"This matrix is not a sqaure matrix\")\n",
    "\n",
    "    \n",
    "    for i in range(n):\n",
    "        if U_matrix[i,i] == 0:\n",
    "            raise ValueError(\"Pure LU decomposition does not exist for the input matrix.\")\n",
    "        \n",
    "        # performing row operations to obtain l and u matrices  \n",
    "        for j in range(i+1,n):\n",
    "            factor = U_matrix[j,i]/U_matrix[i,i]\n",
    "            U_matrix[j,:] = -factor * U_matrix[i,:] + U_matrix[j,:]\n",
    "            L_matrix[j,i] = factor\n",
    "        \n",
    "    return L_matrix, U_matrix\n",
    "    "
   ]
  },
  {
   "cell_type": "code",
   "execution_count": null,
   "id": "42774392",
   "metadata": {
    "scrolled": true
   },
   "outputs": [],
   "source": []
  },
  {
   "cell_type": "code",
   "execution_count": 74,
   "id": "df0a2064",
   "metadata": {},
   "outputs": [
    {
     "name": "stdout",
     "output_type": "stream",
     "text": [
      "Original Matrix  :\n",
      "[[ 1  4 -3]\n",
      " [-2  8  5]\n",
      " [ 3  4  7]]\n",
      "L Matrix :\n",
      "[[ 1.   0.   0. ]\n",
      " [-2.   1.   0. ]\n",
      " [ 3.  -0.5  1. ]]\n",
      "U Matrix :\n",
      "[[ 1.   4.  -3. ]\n",
      " [ 0.  16.  -1. ]\n",
      " [ 0.   0.  15.5]]\n",
      "Is A equal to L times U for Matrix ? True\n",
      "Original Matrix  :\n",
      "[[-1  1  2]\n",
      " [ 0  2  7]\n",
      " [ 0  0 -5]]\n",
      "L Matrix :\n",
      "[[ 1.  0.  0.]\n",
      " [-0.  1.  0.]\n",
      " [-0.  0.  1.]]\n",
      "U Matrix :\n",
      "[[-1.  1.  2.]\n",
      " [ 0.  2.  7.]\n",
      " [ 0.  0. -5.]]\n",
      "Is A equal to L times U for Matrix ? True\n",
      "[[1 2 3]\n",
      " [2 4 1]\n",
      " [3 5 7]] has Error: Pure LU decomposition does not exist for the input matrix.\n",
      "[[ 1  2 -3  1]\n",
      " [ 2  4  0  7]\n",
      " [-1  3  2  0]] has Error: This matrix is not a sqaure matrix\n"
     ]
    }
   ],
   "source": [
    "#test matrices\n",
    "test_A = np.array([[1,4,-3],[-2,8,5],[3,4,7]])\n",
    "test_B = np.array([[-1, 1, 2], [0,2,7], [0,0,-5] ])\n",
    "test_C = np.array([[1,2,3],[2,4,1], [3,5,7],])\n",
    "test_D = np.array([[1,2,-3,1], [2,4,0,7], [-1,3,2,0]])\n",
    "test_matrix = [test_A, test_B, test_C, test_D]\n",
    "\n",
    "#iterate over each test matrix\n",
    "for matrix in test_matrix:\n",
    "    try:\n",
    "        #obtain l and u matrices\n",
    "        test_L = LUdecomposition(matrix)[0]\n",
    "        test_U = LUdecomposition(matrix)[1]\n",
    "        #compute lu product\n",
    "        test_LU = np.matmul(test_L, test_U)\n",
    "        #check if a equals l times u\n",
    "        is_lu = np.allclose(matrix,test_LU)\n",
    "        \n",
    "        # print result\n",
    "        print(f\"Original Matrix  :\\n{matrix}\")\n",
    "        print(f\"L Matrix :\\n{test_L}\")\n",
    "        print(f\"U Matrix :\\n{test_U}\")\n",
    "        print(f\"Is A equal to L times U for Matrix ? {is_lu}\")\n",
    "    except ValueError as E:\n",
    "        #print errors if lu decoomposition fails\n",
    "        print(f\"{matrix} has Error: {E}\")\n",
    "\n",
    "        \n",
    "        \n",
    "        \n",
    "\n"
   ]
  },
  {
   "cell_type": "markdown",
   "id": "c42fa772",
   "metadata": {},
   "source": [
    "## Part B"
   ]
  },
  {
   "cell_type": "code",
   "execution_count": 75,
   "id": "7033d670",
   "metadata": {},
   "outputs": [],
   "source": [
    "# function for pivoting \n",
    "def pivoting(A):\n",
    "    \n",
    "    n = len(A)\n",
    "    P = np.identity(n)\n",
    "    \n",
    "    \n",
    "    for i in range(n):\n",
    "        # Find the row with the maximum value in the current column\n",
    "        max_row = np.argmax(np.abs(A[i:n, i])) + i\n",
    "        if max_row != i:\n",
    "            # Swap the rows in P\n",
    "            P[[i, max_row], :] = P[[max_row, i], :]\n",
    "            #A[[i, max_row], :] = A[[max_row, i], :]  # Apply the same row swap to A\n",
    "    return P\n"
   ]
  },
  {
   "cell_type": "code",
   "execution_count": 76,
   "id": "b1bdef02",
   "metadata": {},
   "outputs": [
    {
     "name": "stdout",
     "output_type": "stream",
     "text": [
      "Error: Pure LU decomposition does not exist for the input matrix.\n",
      "Original Matrix  :\n",
      "[[1 2 3]\n",
      " [2 4 1]\n",
      " [3 5 7]]\n",
      "PL matrix is :\n",
      "[[3. 5. 7.]\n",
      " [1. 2. 3.]\n",
      " [2. 4. 1.]]\n",
      "L Matrix :\n",
      "[[1.         0.         0.        ]\n",
      " [0.33333333 1.         0.        ]\n",
      " [0.66666667 2.         1.        ]]\n",
      "U Matrix :\n",
      "[[ 3.          5.          7.        ]\n",
      " [ 0.          0.33333333  0.66666667]\n",
      " [ 0.          0.         -5.        ]]\n",
      "Is A equal to L times U for Matrix ? True\n",
      "Verification successful. PA equals LU.\n"
     ]
    }
   ],
   "source": [
    "\n",
    "# Example A where LU decomposition might fail\n",
    "test_C = np.array([[1,2,3],[2,4,1], [3,5,7],])\n",
    "try:\n",
    "    \n",
    "    # Trying to perform LU decomposition on the matrix\n",
    "    test_L, test_U = LUdecomposition(test_C)\n",
    "except Exception as e:\n",
    "    print(f\"Error: {e}\")\n",
    "    \n",
    "\n",
    "    \n",
    "# Using pivoting to find P and the pure LU decomposition of PA\n",
    "P = pivoting(test_C)\n",
    "\n",
    "# Obtaining the PA matrix\n",
    "PA = np.matmul(P, test_C)\n",
    "# Obtaining L and U matrices from the PA matrix\n",
    "test_L, test_U = LUdecomposition(PA)\n",
    "# Computing the LU product\n",
    "test_LU = np.matmul(test_L, test_U)\n",
    "\n",
    "# Checking if PA is equal to the LU product\n",
    "is_lu = np.allclose(PA,test_LU)\n",
    "\n",
    "#print\n",
    "print(f\"Original Matrix  :\\n{test_C}\")\n",
    "print(f\"PL matrix is :\\n{PA}\")\n",
    "print(f\"L Matrix :\\n{test_L}\")\n",
    "print(f\"U Matrix :\\n{test_U}\")\n",
    "print(f\"Is A equal to L times U for Matrix ? {is_lu}\")\n",
    "\n",
    "if is_lu:\n",
    "    print(\"Verification successful. PA equals LU.\")\n",
    "else:\n",
    "    print(\"Verification failed. PA does not equal LU.\")\n",
    "\n",
    "\n",
    "\n",
    "\n",
    "\n",
    "\n",
    "\n",
    "\n",
    "\n"
   ]
  },
  {
   "cell_type": "code",
   "execution_count": null,
   "id": "93763f1b",
   "metadata": {},
   "outputs": [],
   "source": [
    "\n",
    "    "
   ]
  },
  {
   "cell_type": "code",
   "execution_count": null,
   "id": "066d2c22",
   "metadata": {},
   "outputs": [],
   "source": []
  },
  {
   "cell_type": "code",
   "execution_count": null,
   "id": "e134e11d",
   "metadata": {},
   "outputs": [],
   "source": []
  },
  {
   "cell_type": "code",
   "execution_count": null,
   "id": "6a6a3001",
   "metadata": {},
   "outputs": [],
   "source": []
  },
  {
   "cell_type": "code",
   "execution_count": null,
   "id": "3e8ce2fb",
   "metadata": {},
   "outputs": [],
   "source": []
  }
 ],
 "metadata": {
  "kernelspec": {
   "display_name": "Python 3 (ipykernel)",
   "language": "python",
   "name": "python3"
  },
  "language_info": {
   "codemirror_mode": {
    "name": "ipython",
    "version": 3
   },
   "file_extension": ".py",
   "mimetype": "text/x-python",
   "name": "python",
   "nbconvert_exporter": "python",
   "pygments_lexer": "ipython3",
   "version": "3.11.5"
  }
 },
 "nbformat": 4,
 "nbformat_minor": 5
}
