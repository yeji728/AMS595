{
 "cells": [
  {
   "cell_type": "markdown",
   "id": "a81bc043",
   "metadata": {},
   "source": [
    "## Problem 2-a"
   ]
  },
  {
   "cell_type": "code",
   "execution_count": 1,
   "id": "f048609b",
   "metadata": {},
   "outputs": [],
   "source": [
    "from sympy import * \n",
    "import numpy as np"
   ]
  },
  {
   "cell_type": "code",
   "execution_count": 2,
   "id": "34a84d5c",
   "metadata": {},
   "outputs": [],
   "source": [
    "init_printing()"
   ]
  },
  {
   "cell_type": "code",
   "execution_count": null,
   "id": "dea3c08f",
   "metadata": {},
   "outputs": [],
   "source": []
  },
  {
   "cell_type": "code",
   "execution_count": 3,
   "id": "7ceb0193",
   "metadata": {},
   "outputs": [
    {
     "name": "stdout",
     "output_type": "stream",
     "text": [
      "using sympy, the result is  320\n"
     ]
    }
   ],
   "source": [
    "# first define the f(x)\n",
    "x = Symbol('x')\n",
    "f = 3*x**2 + 2*x + 2\n",
    "f\n",
    "# carry out integration \n",
    "\n",
    "result = integrate(f, (x, -4, 6))\n",
    "print(\"using sympy, the result is \", result)\n",
    "\n"
   ]
  },
  {
   "cell_type": "code",
   "execution_count": 4,
   "id": "aa18fab3",
   "metadata": {},
   "outputs": [],
   "source": [
    "N = Symbol(\"N\")\n",
    "b = 6\n",
    "a  = -4\n",
    "\n",
    "# make a trapezoid function\n",
    "def trapezoid(N):\n",
    "    \n",
    "    # calculate the width of each subinterval\n",
    "    dx = (b-a)/N\n",
    "    \n",
    "    # generate N+1 equally spaced points between -4 and 6\n",
    "    x_k = np.linspace(-4,6,N+1)\n",
    "   \n",
    "    # conver the symbolic expression f to a numpy-compatible function\n",
    "    f_X = lambdify( x, f , 'numpy')\n",
    "    \n",
    "   \n",
    "    # compute the trapezoid rule approximation\n",
    "    return dx * ( sum( f_X(x_k[1:N]) ) + 0.5 * ( f_X(x_k[0]) + f_X(x_k[N]) )  )\n",
    "    \n",
    "\n"
   ]
  },
  {
   "cell_type": "code",
   "execution_count": 5,
   "id": "a329db1f",
   "metadata": {},
   "outputs": [
    {
     "name": "stdout",
     "output_type": "stream",
     "text": [
      "N = 10: approximation is 325.0\n",
      "N = 20: approximation is 321.25\n",
      "N = 40: approximation is 320.3125\n",
      "N = 80: approximation is 320.078125\n",
      "N = 160: approximation is 320.01953125\n",
      "N = 320: approximation is 320.0048828125\n",
      "N = 640: approximation is 320.001220703125\n",
      "N = 1280: approximation is 320.00030517578125\n"
     ]
    }
   ],
   "source": [
    "N_list = [10,20,40,80,160,320,640,1280]\n",
    "approximation = []\n",
    "approximations = []\n",
    "for n in N_list:\n",
    "    approximation= trapezoid(n)\n",
    "    \n",
    "    approximations.append(approximation)\n",
    "    print(f\"N = {n}: approximation is {approximation}\")\n"
   ]
  },
  {
   "cell_type": "code",
   "execution_count": 8,
   "id": "df18385f",
   "metadata": {},
   "outputs": [
    {
     "data": {
      "image/png": "[encoded data removed]",
      "text/plain": [
       "<Figure size 1000x600 with 1 Axes>"
      ]
     },
     "metadata": {},
     "output_type": "display_data"
    }
   ],
   "source": [
    "\n",
    "import matplotlib.pyplot as plt\n",
    "absolute_errors = [abs(result - approx) for approx in approximations]\n",
    "\n",
    "# Plot the absolute error against N\n",
    "plt.figure(figsize=(10, 6))\n",
    "plt.plot(N_list, absolute_errors, marker='o')\n",
    "\n",
    "plt.title('using simpy vs. approximation')\n",
    "plt.xlabel('N ')\n",
    "plt.ylabel('Absolute Error ')\n",
    "plt.grid()\n",
    "plt.show()"
   ]
  },
  {
   "cell_type": "markdown",
   "id": "508899ad",
   "metadata": {},
   "source": [
    "## Problem 3"
   ]
  },
  {
   "cell_type": "code",
   "execution_count": 37,
   "id": "bb4501eb",
   "metadata": {},
   "outputs": [],
   "source": [
    "import pandas as pd"
   ]
  },
  {
   "cell_type": "code",
   "execution_count": 38,
   "id": "d6d3af1c",
   "metadata": {},
   "outputs": [
    {
     "name": "stdout",
     "output_type": "stream",
     "text": [
      "0    6660\n",
      "1    9055\n",
      "2    6686\n",
      "dtype: int64\n"
     ]
    }
   ],
   "source": [
    " print(pd.Series(np.random.randint(1000, 10001, size = 3)))"
   ]
  },
  {
   "cell_type": "code",
   "execution_count": null,
   "id": "05f65186",
   "metadata": {},
   "outputs": [],
   "source": []
  },
  {
   "cell_type": "code",
   "execution_count": null,
   "id": "cdeff5ff",
   "metadata": {},
   "outputs": [],
   "source": []
  },
  {
   "cell_type": "code",
   "execution_count": 39,
   "id": "1efa0dba",
   "metadata": {},
   "outputs": [
    {
     "name": "stdout",
     "output_type": "stream",
     "text": [
      "Entire DataFrame:\n",
      "                    Hempstead  Babylon  Islip  Brookhaven\n",
      "Population in 2099       2024     9896   9466        2396\n",
      "Population in 2300       3232     1545   3161        9021\n",
      "Population in 2400       9060     4044   3779        7655\n"
     ]
    }
   ],
   "source": [
    "# Create a 3x4 Pandas DataFrame\n",
    "towns = ['Hempstead', 'Babylon', 'Islip', 'Brookhaven']\n",
    "years = ['Population in 2099', 'Population in 2300', 'Population in 2400']\n",
    "data = np.random.randint(1000, 10001, size=(3, 4))\n",
    "df = pd.DataFrame(data, columns=towns, index=years)\n",
    "\n",
    "# Output the entire DataFrame \n",
    "print(\"Entire DataFrame:\")\n",
    "print(df)\n",
    "\n"
   ]
  },
  {
   "cell_type": "code",
   "execution_count": 40,
   "id": "25d9270f",
   "metadata": {},
   "outputs": [
    {
     "data": {
      "text/html": [
       "<div>\n",
       "<style scoped>\n",
       "    .dataframe tbody tr th:only-of-type {\n",
       "        vertical-align: middle;\n",
       "    }\n",
       "\n",
       "    .dataframe tbody tr th {\n",
       "        vertical-align: top;\n",
       "    }\n",
       "\n",
       "    .dataframe thead th {\n",
       "        text-align: right;\n",
       "    }\n",
       "</style>\n",
       "<table border=\"1\" class=\"dataframe\">\n",
       "  <thead>\n",
       "    <tr style=\"text-align: right;\">\n",
       "      <th></th>\n",
       "      <th>Hempstead</th>\n",
       "      <th>Babylon</th>\n",
       "      <th>Islip</th>\n",
       "      <th>Brookhaven</th>\n",
       "    </tr>\n",
       "  </thead>\n",
       "  <tbody>\n",
       "    <tr>\n",
       "      <th>Population in 2099</th>\n",
       "      <td>2024</td>\n",
       "      <td>9896</td>\n",
       "      <td>9466</td>\n",
       "      <td>2396</td>\n",
       "    </tr>\n",
       "    <tr>\n",
       "      <th>Population in 2300</th>\n",
       "      <td>3232</td>\n",
       "      <td>1545</td>\n",
       "      <td>3161</td>\n",
       "      <td>9021</td>\n",
       "    </tr>\n",
       "    <tr>\n",
       "      <th>Population in 2400</th>\n",
       "      <td>9060</td>\n",
       "      <td>4044</td>\n",
       "      <td>3779</td>\n",
       "      <td>7655</td>\n",
       "    </tr>\n",
       "  </tbody>\n",
       "</table>\n",
       "</div>"
      ],
      "text/plain": [
       "                    Hempstead  Babylon  Islip  Brookhaven\n",
       "Population in 2099       2024     9896   9466        2396\n",
       "Population in 2300       3232     1545   3161        9021\n",
       "Population in 2400       9060     4044   3779        7655"
      ]
     },
     "execution_count": 40,
     "metadata": {},
     "output_type": "execute_result"
    }
   ],
   "source": [
    "df"
   ]
  },
  {
   "cell_type": "code",
   "execution_count": 41,
   "id": "f2b8a8e3",
   "metadata": {},
   "outputs": [
    {
     "name": "stdout",
     "output_type": "stream",
     "text": [
      "\n",
      "Value in the cell of row #1 under the Hempstead column: 3232\n",
      "\n",
      "DataFrame with the Riverhead column:\n",
      "                    Hempstead  Babylon  Islip  Brookhaven  Riverhead\n",
      "Population in 2099       2024     9896   9466        2396      11862\n",
      "Population in 2300       3232     1545   3161        9021      12182\n",
      "Population in 2400       9060     4044   3779        7655      11434\n"
     ]
    }
   ],
   "source": [
    "# the value in the cell of row #1 under the Hempstead column\n",
    "print(\"\\nValue in the cell of row #1 under the Hempstead column:\", df['Hempstead'][1])\n",
    "\n",
    "# Add a new column named Riverhead\n",
    "df['Riverhead'] = df['Islip'] + df['Brookhaven']\n",
    "\n",
    "# Output the entire DataFrame with the new column\n",
    "print(\"\\nDataFrame with the Riverhead column:\")\n",
    "print(df)"
   ]
  },
  {
   "cell_type": "code",
   "execution_count": 42,
   "id": "1b93258c",
   "metadata": {},
   "outputs": [
    {
     "data": {
      "text/html": [
       "<div>\n",
       "<style scoped>\n",
       "    .dataframe tbody tr th:only-of-type {\n",
       "        vertical-align: middle;\n",
       "    }\n",
       "\n",
       "    .dataframe tbody tr th {\n",
       "        vertical-align: top;\n",
       "    }\n",
       "\n",
       "    .dataframe thead th {\n",
       "        text-align: right;\n",
       "    }\n",
       "</style>\n",
       "<table border=\"1\" class=\"dataframe\">\n",
       "  <thead>\n",
       "    <tr style=\"text-align: right;\">\n",
       "      <th></th>\n",
       "      <th>Hempstead</th>\n",
       "      <th>Babylon</th>\n",
       "      <th>Islip</th>\n",
       "      <th>Brookhaven</th>\n",
       "      <th>Riverhead</th>\n",
       "    </tr>\n",
       "  </thead>\n",
       "  <tbody>\n",
       "    <tr>\n",
       "      <th>Population in 2099</th>\n",
       "      <td>2024</td>\n",
       "      <td>9896</td>\n",
       "      <td>9466</td>\n",
       "      <td>2396</td>\n",
       "      <td>11862</td>\n",
       "    </tr>\n",
       "    <tr>\n",
       "      <th>Population in 2300</th>\n",
       "      <td>3232</td>\n",
       "      <td>1545</td>\n",
       "      <td>3161</td>\n",
       "      <td>9021</td>\n",
       "      <td>12182</td>\n",
       "    </tr>\n",
       "    <tr>\n",
       "      <th>Population in 2400</th>\n",
       "      <td>9060</td>\n",
       "      <td>4044</td>\n",
       "      <td>3779</td>\n",
       "      <td>7655</td>\n",
       "      <td>11434</td>\n",
       "    </tr>\n",
       "  </tbody>\n",
       "</table>\n",
       "</div>"
      ],
      "text/plain": [
       "                    Hempstead  Babylon  Islip  Brookhaven  Riverhead\n",
       "Population in 2099       2024     9896   9466        2396      11862\n",
       "Population in 2300       3232     1545   3161        9021      12182\n",
       "Population in 2400       9060     4044   3779        7655      11434"
      ]
     },
     "execution_count": 42,
     "metadata": {},
     "output_type": "execute_result"
    }
   ],
   "source": [
    "df"
   ]
  },
  {
   "cell_type": "markdown",
   "id": "2b44afd6",
   "metadata": {},
   "source": [
    "## Problem 4"
   ]
  },
  {
   "cell_type": "code",
   "execution_count": 43,
   "id": "f9e2baad",
   "metadata": {},
   "outputs": [
    {
     "data": {
      "text/html": [
       "<div>\n",
       "<style scoped>\n",
       "    .dataframe tbody tr th:only-of-type {\n",
       "        vertical-align: middle;\n",
       "    }\n",
       "\n",
       "    .dataframe tbody tr th {\n",
       "        vertical-align: top;\n",
       "    }\n",
       "\n",
       "    .dataframe thead th {\n",
       "        text-align: right;\n",
       "    }\n",
       "</style>\n",
       "<table border=\"1\" class=\"dataframe\">\n",
       "  <thead>\n",
       "    <tr style=\"text-align: right;\">\n",
       "      <th></th>\n",
       "      <th>Index</th>\n",
       "      <th>Customer Id</th>\n",
       "      <th>First Name</th>\n",
       "      <th>Last Name</th>\n",
       "      <th>Company</th>\n",
       "      <th>City</th>\n",
       "      <th>Country</th>\n",
       "      <th>Phone 1</th>\n",
       "      <th>Phone 2</th>\n",
       "      <th>Email</th>\n",
       "      <th>Subscription Date</th>\n",
       "      <th>Website</th>\n",
       "    </tr>\n",
       "  </thead>\n",
       "  <tbody>\n",
       "    <tr>\n",
       "      <th>0</th>\n",
       "      <td>1</td>\n",
       "      <td>DD37Cf93aecA6Dc</td>\n",
       "      <td>Sheryl</td>\n",
       "      <td>Baxter</td>\n",
       "      <td>Rasmussen Group</td>\n",
       "      <td>East Leonard</td>\n",
       "      <td>Chile</td>\n",
       "      <td>229.077.5154</td>\n",
       "      <td>397.884.0519x718</td>\n",
       "      <td>zunigavanessa@smith.info</td>\n",
       "      <td>2020-08-24</td>\n",
       "      <td>http://www.stephenson.com/</td>\n",
       "    </tr>\n",
       "    <tr>\n",
       "      <th>1</th>\n",
       "      <td>2</td>\n",
       "      <td>1Ef7b82A4CAAD10</td>\n",
       "      <td>Preston</td>\n",
       "      <td>Lozano</td>\n",
       "      <td>Vega-Gentry</td>\n",
       "      <td>East Jimmychester</td>\n",
       "      <td>Djibouti</td>\n",
       "      <td>5153435776</td>\n",
       "      <td>686-620-1820x944</td>\n",
       "      <td>vmata@colon.com</td>\n",
       "      <td>2021-04-23</td>\n",
       "      <td>http://www.hobbs.com/</td>\n",
       "    </tr>\n",
       "    <tr>\n",
       "      <th>2</th>\n",
       "      <td>3</td>\n",
       "      <td>6F94879bDAfE5a6</td>\n",
       "      <td>Roy</td>\n",
       "      <td>Berry</td>\n",
       "      <td>Murillo-Perry</td>\n",
       "      <td>Isabelborough</td>\n",
       "      <td>Antigua and Barbuda</td>\n",
       "      <td>+1-539-402-0259</td>\n",
       "      <td>(496)978-3969x58947</td>\n",
       "      <td>beckycarr@hogan.com</td>\n",
       "      <td>2020-03-25</td>\n",
       "      <td>http://www.lawrence.com/</td>\n",
       "    </tr>\n",
       "    <tr>\n",
       "      <th>3</th>\n",
       "      <td>4</td>\n",
       "      <td>5Cef8BFA16c5e3c</td>\n",
       "      <td>Linda</td>\n",
       "      <td>Olsen</td>\n",
       "      <td>Dominguez, Mcmillan and Donovan</td>\n",
       "      <td>Bensonview</td>\n",
       "      <td>Dominican Republic</td>\n",
       "      <td>001-808-617-6467x12895</td>\n",
       "      <td>+1-813-324-8756</td>\n",
       "      <td>stanleyblackwell@benson.org</td>\n",
       "      <td>2020-06-02</td>\n",
       "      <td>http://www.good-lyons.com/</td>\n",
       "    </tr>\n",
       "    <tr>\n",
       "      <th>4</th>\n",
       "      <td>5</td>\n",
       "      <td>053d585Ab6b3159</td>\n",
       "      <td>Joanna</td>\n",
       "      <td>Bender</td>\n",
       "      <td>Martin, Lang and Andrade</td>\n",
       "      <td>West Priscilla</td>\n",
       "      <td>Slovakia (Slovak Republic)</td>\n",
       "      <td>001-234-203-0635x76146</td>\n",
       "      <td>001-199-446-3860x3486</td>\n",
       "      <td>colinalvarado@miles.net</td>\n",
       "      <td>2021-04-17</td>\n",
       "      <td>https://goodwin-ingram.com/</td>\n",
       "    </tr>\n",
       "  </tbody>\n",
       "</table>\n",
       "</div>"
      ],
      "text/plain": [
       "   Index      Customer Id First Name Last Name  \\\n",
       "0      1  DD37Cf93aecA6Dc     Sheryl    Baxter   \n",
       "1      2  1Ef7b82A4CAAD10    Preston    Lozano   \n",
       "2      3  6F94879bDAfE5a6        Roy     Berry   \n",
       "3      4  5Cef8BFA16c5e3c      Linda     Olsen   \n",
       "4      5  053d585Ab6b3159     Joanna    Bender   \n",
       "\n",
       "                           Company               City  \\\n",
       "0                  Rasmussen Group       East Leonard   \n",
       "1                      Vega-Gentry  East Jimmychester   \n",
       "2                    Murillo-Perry      Isabelborough   \n",
       "3  Dominguez, Mcmillan and Donovan         Bensonview   \n",
       "4         Martin, Lang and Andrade     West Priscilla   \n",
       "\n",
       "                      Country                 Phone 1                Phone 2  \\\n",
       "0                       Chile            229.077.5154       397.884.0519x718   \n",
       "1                    Djibouti              5153435776       686-620-1820x944   \n",
       "2         Antigua and Barbuda         +1-539-402-0259    (496)978-3969x58947   \n",
       "3          Dominican Republic  001-808-617-6467x12895        +1-813-324-8756   \n",
       "4  Slovakia (Slovak Republic)  001-234-203-0635x76146  001-199-446-3860x3486   \n",
       "\n",
       "                         Email Subscription Date                      Website  \n",
       "0     zunigavanessa@smith.info        2020-08-24   http://www.stephenson.com/  \n",
       "1              vmata@colon.com        2021-04-23        http://www.hobbs.com/  \n",
       "2          beckycarr@hogan.com        2020-03-25     http://www.lawrence.com/  \n",
       "3  stanleyblackwell@benson.org        2020-06-02   http://www.good-lyons.com/  \n",
       "4      colinalvarado@miles.net        2021-04-17  https://goodwin-ingram.com/  "
      ]
     },
     "execution_count": 43,
     "metadata": {},
     "output_type": "execute_result"
    }
   ],
   "source": [
    "# Read the CSV file into a DataFrame\n",
    "df = pd.read_csv('customers-100.csv')\n",
    "df.head()\n",
    "\n"
   ]
  },
  {
   "cell_type": "code",
   "execution_count": null,
   "id": "51984a63",
   "metadata": {},
   "outputs": [],
   "source": []
  },
  {
   "cell_type": "code",
   "execution_count": null,
   "id": "318a14f8",
   "metadata": {
    "scrolled": true
   },
   "outputs": [],
   "source": []
  },
  {
   "cell_type": "code",
   "execution_count": 44,
   "id": "63859e4e",
   "metadata": {},
   "outputs": [
    {
     "data": {
      "text/html": [
       "<div>\n",
       "<style scoped>\n",
       "    .dataframe tbody tr th:only-of-type {\n",
       "        vertical-align: middle;\n",
       "    }\n",
       "\n",
       "    .dataframe tbody tr th {\n",
       "        vertical-align: top;\n",
       "    }\n",
       "\n",
       "    .dataframe thead th {\n",
       "        text-align: right;\n",
       "    }\n",
       "</style>\n",
       "<table border=\"1\" class=\"dataframe\">\n",
       "  <thead>\n",
       "    <tr style=\"text-align: right;\">\n",
       "      <th></th>\n",
       "      <th>Index</th>\n",
       "      <th>Customer Id</th>\n",
       "      <th>First Name</th>\n",
       "      <th>Last Name</th>\n",
       "      <th>Company</th>\n",
       "      <th>City</th>\n",
       "      <th>Country</th>\n",
       "      <th>Phone 1</th>\n",
       "      <th>Phone 2</th>\n",
       "      <th>Email</th>\n",
       "      <th>Subscription Date</th>\n",
       "      <th>Website</th>\n",
       "    </tr>\n",
       "  </thead>\n",
       "  <tbody>\n",
       "    <tr>\n",
       "      <th>67</th>\n",
       "      <td>68</td>\n",
       "      <td>a014Ec1b9FccC1E</td>\n",
       "      <td>Tom</td>\n",
       "      <td>Alvarado</td>\n",
       "      <td>Donaldson-Dougherty</td>\n",
       "      <td>South Sophiaberg</td>\n",
       "      <td>Kiribati</td>\n",
       "      <td>(585)606-2980x2258</td>\n",
       "      <td>730-797-3594x5614</td>\n",
       "      <td>nicholsonnina@montgomery.info</td>\n",
       "      <td>2020-08-18</td>\n",
       "      <td>http://odom-massey.com/</td>\n",
       "    </tr>\n",
       "    <tr>\n",
       "      <th>96</th>\n",
       "      <td>97</td>\n",
       "      <td>CeD220bdAaCfaDf</td>\n",
       "      <td>Lynn</td>\n",
       "      <td>Atkinson</td>\n",
       "      <td>Ware, Burns and Oneal</td>\n",
       "      <td>New Bradview</td>\n",
       "      <td>Sri Lanka</td>\n",
       "      <td>+1-846-706-2218</td>\n",
       "      <td>605.413.3198</td>\n",
       "      <td>vkemp@ferrell.com</td>\n",
       "      <td>2021-07-10</td>\n",
       "      <td>https://novak-allison.com/</td>\n",
       "    </tr>\n",
       "    <tr>\n",
       "      <th>92</th>\n",
       "      <td>93</td>\n",
       "      <td>aAb6AFc7AfD0fF3</td>\n",
       "      <td>Collin</td>\n",
       "      <td>Ayers</td>\n",
       "      <td>Lamb-Peterson</td>\n",
       "      <td>South Lonnie</td>\n",
       "      <td>Anguilla</td>\n",
       "      <td>404-645-5351x012</td>\n",
       "      <td>001-257-582-8850x8516</td>\n",
       "      <td>dudleyemily@gonzales.biz</td>\n",
       "      <td>2021-06-29</td>\n",
       "      <td>http://www.ruiz.com/</td>\n",
       "    </tr>\n",
       "    <tr>\n",
       "      <th>0</th>\n",
       "      <td>1</td>\n",
       "      <td>DD37Cf93aecA6Dc</td>\n",
       "      <td>Sheryl</td>\n",
       "      <td>Baxter</td>\n",
       "      <td>Rasmussen Group</td>\n",
       "      <td>East Leonard</td>\n",
       "      <td>Chile</td>\n",
       "      <td>229.077.5154</td>\n",
       "      <td>397.884.0519x718</td>\n",
       "      <td>zunigavanessa@smith.info</td>\n",
       "      <td>2020-08-24</td>\n",
       "      <td>http://www.stephenson.com/</td>\n",
       "    </tr>\n",
       "    <tr>\n",
       "      <th>15</th>\n",
       "      <td>16</td>\n",
       "      <td>8cad0b4CBceaeec</td>\n",
       "      <td>Miranda</td>\n",
       "      <td>Beasley</td>\n",
       "      <td>Singleton and Sons</td>\n",
       "      <td>Desireeshire</td>\n",
       "      <td>Oman</td>\n",
       "      <td>540.085.3135x185</td>\n",
       "      <td>+1-600-462-6432x21881</td>\n",
       "      <td>vduncan@parks-hardy.com</td>\n",
       "      <td>2022-04-12</td>\n",
       "      <td>http://acosta.org/</td>\n",
       "    </tr>\n",
       "  </tbody>\n",
       "</table>\n",
       "</div>"
      ],
      "text/plain": [
       "    Index      Customer Id First Name Last Name                Company  \\\n",
       "67     68  a014Ec1b9FccC1E        Tom  Alvarado    Donaldson-Dougherty   \n",
       "96     97  CeD220bdAaCfaDf       Lynn  Atkinson  Ware, Burns and Oneal   \n",
       "92     93  aAb6AFc7AfD0fF3     Collin     Ayers          Lamb-Peterson   \n",
       "0       1  DD37Cf93aecA6Dc     Sheryl    Baxter        Rasmussen Group   \n",
       "15     16  8cad0b4CBceaeec    Miranda   Beasley     Singleton and Sons   \n",
       "\n",
       "                City    Country             Phone 1                Phone 2  \\\n",
       "67  South Sophiaberg   Kiribati  (585)606-2980x2258      730-797-3594x5614   \n",
       "96      New Bradview  Sri Lanka     +1-846-706-2218           605.413.3198   \n",
       "92      South Lonnie   Anguilla    404-645-5351x012  001-257-582-8850x8516   \n",
       "0       East Leonard      Chile        229.077.5154       397.884.0519x718   \n",
       "15      Desireeshire       Oman    540.085.3135x185  +1-600-462-6432x21881   \n",
       "\n",
       "                            Email Subscription Date  \\\n",
       "67  nicholsonnina@montgomery.info        2020-08-18   \n",
       "96              vkemp@ferrell.com        2021-07-10   \n",
       "92       dudleyemily@gonzales.biz        2021-06-29   \n",
       "0        zunigavanessa@smith.info        2020-08-24   \n",
       "15        vduncan@parks-hardy.com        2022-04-12   \n",
       "\n",
       "                       Website  \n",
       "67     http://odom-massey.com/  \n",
       "96  https://novak-allison.com/  \n",
       "92        http://www.ruiz.com/  \n",
       "0   http://www.stephenson.com/  \n",
       "15          http://acosta.org/  "
      ]
     },
     "execution_count": 44,
     "metadata": {},
     "output_type": "execute_result"
    }
   ],
   "source": [
    "#arrange the data in alphabetical order based on the last name\n",
    "df.sort_values('Last Name').head()\n"
   ]
  },
  {
   "cell_type": "code",
   "execution_count": 45,
   "id": "95ca5dd8",
   "metadata": {},
   "outputs": [
    {
     "name": "stdout",
     "output_type": "stream",
     "text": [
      "\n",
      "Number of customers with a subscription date in 2021: 43\n"
     ]
    }
   ],
   "source": [
    "\n",
    "# make a new dataframe whose whose subscription date is in 2021\n",
    "count_data = df[(df['Subscription Date'] >= '2021-01-01') & (df['Subscription Date'] <= '2021-12-31')]\n",
    "# count the number of customers by using this new dataframe\n",
    "count = len(count_data)\n",
    "\n",
    "# Print the count\n",
    "print(\"\\nNumber of customers with a subscription date in 2021:\", count)\n"
   ]
  },
  {
   "cell_type": "code",
   "execution_count": null,
   "id": "eaad99b3",
   "metadata": {},
   "outputs": [],
   "source": []
  },
  {
   "cell_type": "markdown",
   "id": "2f103d93",
   "metadata": {},
   "source": [
    "## Problem-6 Markov Chain"
   ]
  },
  {
   "cell_type": "code",
   "execution_count": 46,
   "id": "49005577",
   "metadata": {},
   "outputs": [
    {
     "name": "stdout",
     "output_type": "stream",
     "text": [
      "[[0.186482   0.23975549 0.09849075 0.17294938 0.30232238]\n",
      " [0.52067733 0.0729554  0.12039217 0.02989849 0.25607661]\n",
      " [0.01429076 0.21851821 0.31050674 0.13320954 0.32347475]\n",
      " [0.31972189 0.01297684 0.30240164 0.14028414 0.22461549]\n",
      " [0.13382451 0.32716273 0.20789519 0.07404194 0.25707562]]\n",
      "[0.29636058 0.1163557  0.08429876 0.14735001 0.35563495]\n",
      "[0.21972728 0.20212093 0.1962758  0.10545074 0.27642524]\n"
     ]
    }
   ],
   "source": [
    "np.random.seed(3)  \n",
    "\n",
    "# Construct a random 5x5 matrix P \n",
    "P = np.random.rand(5, 5)\n",
    "\n",
    "# normalize each row\n",
    "P = P / P.sum(axis=1, keepdims=True)\n",
    "print(P)\n",
    "\n",
    "# Construct a random size-5 vector p and normalize it\n",
    "p = np.random.rand(5)\n",
    "p = p / p.sum()\n",
    "\n",
    "# apply the transition rule 50 times to obtain p50\n",
    "new_p = p\n",
    "for i in range(50): #using for loop to apply the transition rule 50 times\n",
    "     new_p = np.dot(P.transpose(), new_p)\n",
    "print(p)\n",
    "print(new_p)\n",
    "\n",
    "#part 3:Eigenvalues and Eigenvectors\n",
    "\n",
    "\n"
   ]
  },
  {
   "cell_type": "code",
   "execution_count": 47,
   "id": "169ea74c",
   "metadata": {},
   "outputs": [
    {
     "name": "stdout",
     "output_type": "stream",
     "text": [
      "Matrix P:\n",
      "[[0.186482   0.23975549 0.09849075 0.17294938 0.30232238]\n",
      " [0.52067733 0.0729554  0.12039217 0.02989849 0.25607661]\n",
      " [0.01429076 0.21851821 0.31050674 0.13320954 0.32347475]\n",
      " [0.31972189 0.01297684 0.30240164 0.14028414 0.22461549]\n",
      " [0.13382451 0.32716273 0.20789519 0.07404194 0.25707562]]\n",
      "\n",
      "Vector p:\n",
      "[0.29636058 0.1163557  0.08429876 0.14735001 0.35563495]\n",
      "\n",
      "p_50:\n",
      "[0.29636058 0.1163557  0.08429876 0.14735001 0.35563495]\n",
      "\n",
      "Stationary distribution v:\n",
      "[0.21972728 0.20212093 0.1962758  0.10545074 0.27642524]\n",
      "\n",
      "Component-wise difference:\n",
      "[1.11022302e-16 0.00000000e+00 0.00000000e+00 9.71445147e-17\n",
      " 5.55111512e-17]\n",
      "\n",
      "Do they match within 1e-5? True\n"
     ]
    }
   ],
   "source": [
    "## Eigenvalues and Eigenvectors\n",
    "P_T = P.transpose()\n",
    "eigenvalues, eigenvectors = np.linalg.eig(P_T)\n",
    "# print(\"values\", eigenvalues)\n",
    "# print(\"vector \", eigenvectors)\n",
    "\n",
    "# to find the index of the eigenvector of v corresponding to the eigenvalue 1\n",
    "\n",
    "ind = np.argmin(np.abs(eigenvalues-1))\n",
    "\n",
    "# compute the stationary distribution\n",
    "stationary_dis = np.real(eigenvectors[:, ind])\n",
    "stationary_dis /= np.sum(stationary_dis)\n",
    "\n",
    "\n",
    "# Compute the difference between new_p and the stationary distribution\n",
    "difference = np.abs(new_p - stationary_dis)\n",
    "matching = np.all(difference < 1e-5)\n",
    "\n",
    "print(f\"Matrix P:\\n{P}\\n\")\n",
    "print(f\"Vector p:\\n{p}\\n\")\n",
    "print(f\"p_50:\\n{p}\\n\")\n",
    "print(f\"Stationary distribution v:\\n{stationary_dis}\\n\")\n",
    "print(f\"Component-wise difference:\\n{difference}\\n\")\n",
    "print(f\"Do they match within 1e-5? {matching}\")"
   ]
  },
  {
   "cell_type": "code",
   "execution_count": null,
   "id": "f4fbedb1",
   "metadata": {},
   "outputs": [],
   "source": []
  },
  {
   "cell_type": "code",
   "execution_count": null,
   "id": "9b903c29",
   "metadata": {},
   "outputs": [],
   "source": []
  },
  {
   "cell_type": "code",
   "execution_count": null,
   "id": "b9de4123",
   "metadata": {},
   "outputs": [],
   "source": [
    "\n"
   ]
  },
  {
   "cell_type": "code",
   "execution_count": null,
   "id": "9dd429e4",
   "metadata": {},
   "outputs": [],
   "source": []
  },
  {
   "cell_type": "code",
   "execution_count": null,
   "id": "530e0a5c",
   "metadata": {},
   "outputs": [],
   "source": []
  },
  {
   "cell_type": "code",
   "execution_count": null,
   "id": "37ee2852",
   "metadata": {},
   "outputs": [],
   "source": []
  },
  {
   "cell_type": "code",
   "execution_count": null,
   "id": "fed2ac20",
   "metadata": {},
   "outputs": [],
   "source": []
  },
  {
   "cell_type": "code",
   "execution_count": null,
   "id": "a661d286",
   "metadata": {},
   "outputs": [],
   "source": []
  }
 ],
 "metadata": {
  "kernelspec": {
   "display_name": "Python 3 (ipykernel)",
   "language": "python",
   "name": "python3"
  },
  "language_info": {
   "codemirror_mode": {
    "name": "ipython",
    "version": 3
   },
   "file_extension": ".py",
   "mimetype": "text/x-python",
   "name": "python",
   "nbconvert_exporter": "python",
   "pygments_lexer": "ipython3",
   "version": "3.11.5"
  }
 },
 "nbformat": 4,
 "nbformat_minor": 5
}
