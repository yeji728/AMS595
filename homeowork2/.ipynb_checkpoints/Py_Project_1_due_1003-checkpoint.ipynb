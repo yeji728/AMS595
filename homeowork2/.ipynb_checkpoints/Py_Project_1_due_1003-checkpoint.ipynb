{
 "cells": [
  {
   "cell_type": "markdown",
   "metadata": {
    "id": "xq__bChjD04e"
   },
   "source": [
    "# Python Assignment 1"
   ]
  },
  {
   "cell_type": "markdown",
   "metadata": {
    "id": "y7j2V0UDMYLG"
   },
   "source": [
    "⏱⏱⏱**Due: 10/03/2023 11:59 PM** ⏱⏱⏱\n",
    "\n",
    "Submit this notebook file and upload it to your git repo. Include a link to your git repo while submitting this file to Brightspace.\n",
    "\n",
    "You are not allowed to use chatgpt or any LLM in this assignment.\n",
    "Cooperation is allowed and encouraged; however, you must write up and submit your own work. If you cooperate with others, you must list their names here."
   ]
  },
  {
   "cell_type": "markdown",
   "metadata": {
    "id": "SUS30Ew9D04n"
   },
   "source": [
    "(100 points total)"
   ]
  },
  {
   "cell_type": "markdown",
   "metadata": {
    "id": "b_bgT3b2GYTB"
   },
   "source": [
    "## 0. Data Types, Structures, Indexing, and Slicing"
   ]
  },
  {
   "cell_type": "markdown",
   "metadata": {
    "id": "6yI1Jt57IwV2"
   },
   "source": [
    "Read the lecutre note as well as [this page](https://www.geeksforgeeks.org/mutable-vs-immutable-objects-in-python/) and [this page](https://www.geeksforgeeks.org/difference-between-shallow-and-deep-copy-of-a-class/). Complete the following questions.\n",
    "\n",
    "(5 points) Give some examples (at least 2) of mutable objects in Python.\n",
    "\n",
    "***Answer:***\n",
    "list and dictionary. \n",
    "ex) list: [1,2,34]\n",
    "ex) dictionary: {\"name\": \"yeji\", \"age\": 25}\n",
    " \n",
    "---\n",
    "\n",
    "\n",
    "\n",
    "(5 points) Give some examples (at least 2) of immutable objects in Python.\n",
    "\n",
    "***Answer:***\n",
    "tuples and strings. \n",
    "ex) tuple : (1,2) \n",
    "ex) strings: \"abcd\"\n",
    "\n",
    "---\n",
    "\n",
    "\n",
    "\n",
    "(10 points) State the differences between assignment, shallow copy, and deep copy. Any reasonable answer will get full credit.\n",
    "\n",
    "***Answer:***\n",
    "\n",
    "Assignment:\n",
    "variable assignment: not copy objects, have same memory address, contain same elements\n",
    "When I assign one variable to another,  both variables reference the same object in memory, making them point to the same object.(share the same object) They have the same memory address and contain same elements.\n",
    "\n",
    "Shallow copy:\n",
    "copy objects. create a new object.  elements in both variables point to the original elements.\n",
    " both variables do not reference the same object in memory. They do not have same momory address, but both elements in both variables have same memory address\n",
    " \n",
    "\n",
    "\n",
    "Deep copy: \n",
    "copy obejects. create a new object\n",
    "mutable elements in deep copy do not point to the original element.\n",
    "\n",
    "Example : \n",
    "a = [1,2,3]\n",
    "b = a ---- assignment\n",
    "c = copy.copy(a) ----shallow\n",
    "d = copy.deepcopy(a)  ---- deep copy\n",
    "\n",
    "id(a) == id(b) --assignment\n",
    "id(a) != id(c) -- shallow copy\n",
    "id(a) != id(d) -- deep copy\n",
    "\n",
    "id(a[0]) == id(b[0]) --assignment\n",
    "id(a[0]) == id(b[0]) -- shallow copy\n",
    "id(a[0]) != id(b[0]) -- deep copy\n",
    "\n",
    "\n",
    "\n",
    "\n",
    "\n",
    "---\n",
    "\n",
    "\n",
    "\n"
   ]
  },
  {
   "cell_type": "markdown",
   "metadata": {
    "id": "OA8DxcrrGqZD"
   },
   "source": [
    "(10 points) Using string methods find() and rfind(), find the index of the first digit (i.e. 0) and the index of the last digit (5) in the string below. Then, using string slicing, extract the number (i.e. 0.595595) from this string and convert the extracted value to a floating point number. Print out this float to the console."
   ]
  },
  {
   "cell_type": "code",
   "execution_count": 9,
   "metadata": {
    "id": "AUuFXXWqG4D3"
   },
   "outputs": [
    {
     "name": "stdout",
     "output_type": "stream",
     "text": [
      "0.595595\n"
     ]
    }
   ],
   "source": [
    "text = \"F-DGFDDSFGFD-CFDSHdstgfdfe: tfsd  aaa bdsf 0.595595 fdsgfdbc\";\n",
    "\n",
    "first_index = text.find(\"0\") # extract the index of the first digit\n",
    "last_index = text.rfind(\"5\") # extract the index of the last digit\n",
    "\n",
    "extracted_value = text[first_index:last_index+1] # extract the number using string slicing\n",
    "result = float(extracted_value) # change extracted value to float point number\n",
    "print(result)\n"
   ]
  },
  {
   "cell_type": "markdown",
   "metadata": {
    "id": "cnCljYgpD04p"
   },
   "source": [
    "## 1. Conditional Statements\n",
    "\n",
    "(10 points)\n",
    "Translate the following MATLAB code into Python using `if-elif-else`.\n",
    "```\n",
    "n = input('Enter a number: ');\n",
    "\n",
    "switch n\n",
    "    case -1\n",
    "        disp('negative one')\n",
    "    case 0\n",
    "        disp('zero')\n",
    "    case 1\n",
    "        disp('positive one')\n",
    "    otherwise\n",
    "        disp('other value')\n",
    "end\n",
    "```"
   ]
  },
  {
   "cell_type": "code",
   "execution_count": 4,
   "metadata": {
    "id": "9d8vl5zjD04q"
   },
   "outputs": [
    {
     "name": "stdout",
     "output_type": "stream",
     "text": [
      "Enter a number: 10\n",
      "other value\n"
     ]
    }
   ],
   "source": [
    "n = int(input(\"Enter a number: \")) # n is integer,\n",
    "if n == -1: # case -1\n",
    "    print(\"negative one\")\n",
    "elif n == 0: # case 0\n",
    "    print(\"zero\")\n",
    "elif n == 1: # case 1\n",
    "    print(\"positive one\")\n",
    "else: # otherwise\n",
    "    print(\"other value\")\n",
    "    \n",
    "    \n",
    "    "
   ]
  },
  {
   "cell_type": "markdown",
   "metadata": {
    "id": "sW9XiUPpD04s"
   },
   "source": [
    "## 2. While Loops\n",
    "\n",
    "(10 points) Write a Python program that calculates the factorial of a given number (you can assume an positive integer) using a while loop. Display the result to the console."
   ]
  },
  {
   "cell_type": "code",
   "execution_count": 10,
   "metadata": {
    "colab": {
     "base_uri": "https://localhost:8080/"
    },
    "id": "CRCERx8uD04t",
    "outputId": "1870b9d1-fe04-4ae7-e5ec-08ce640ce72e"
   },
   "outputs": [
    {
     "name": "stdout",
     "output_type": "stream",
     "text": [
      "Enter a number: 17\n",
      "n = 17, Output: 355687428096000\n"
     ]
    }
   ],
   "source": [
    "n = int(input(\"Enter a number: \")) \n",
    "number = n # Store the entered number in a variable for reference\n",
    "\n",
    "\n",
    "\n",
    "result = 1\n",
    "\n",
    "#calculate n*(n-1) * (n-2) *** 1, first: n*1, second : n*(n-1). ...\n",
    "while n > 0: \n",
    "    result = result * n # multiply current result by n\n",
    "    n -= 1 # Reduce n by 1 during each iteration to approach the value of 1.(we multiply until n become 1)\n",
    "\n",
    "#print(\"n = 17, Output: \", result)\n",
    "# print(\"n = 1, Output: \", result)\n",
    "print(f\"n = {number}, Output: {result}\")\n",
    " \n",
    "    \n",
    "\n",
    "\n",
    "\n",
    "\n",
    "# test cases\n",
    "# n = 17, Output: 355687428096000\n",
    "# n = 13, Output: 6227020800"
   ]
  },
  {
   "cell_type": "markdown",
   "metadata": {
    "id": "ZQ5SVMq6D04w"
   },
   "source": [
    "## 3. Functions\n",
    "\n",
    "(10 points) Write a function that determines if a number is prime."
   ]
  },
  {
   "cell_type": "code",
   "execution_count": 14,
   "metadata": {
    "colab": {
     "base_uri": "https://localhost:8080/"
    },
    "id": "6rGP5G3_D04x",
    "outputId": "00df2d17-b697-4146-968f-be4fa7cc3ba3"
   },
   "outputs": [
    {
     "name": "stdout",
     "output_type": "stream",
     "text": [
      "True\n",
      "False\n",
      "True\n",
      "False\n",
      "False\n",
      "False\n"
     ]
    }
   ],
   "source": [
    "def is_prime(n):\n",
    "    if n > 1:\n",
    "    \n",
    "        if n == 2: # when n is 2\n",
    "            return True \n",
    "    \n",
    "        for i in range(2,n): \n",
    "            \n",
    "            # when n is divisible by any number, 2~n-1, it is not prime \n",
    "            if n % i == 0: \n",
    "                return False # this means not prime \n",
    "                \n",
    "        \n",
    "        return True # when n is not divisible by 2~n-1, it is prime number\n",
    "    \n",
    "    return False # if n is less than or equal to 1\n",
    "    \n",
    "                \n",
    "    \n",
    "\n",
    "        \n",
    "        \n",
    "    \n",
    "        \n",
    "        \n",
    "    \n",
    "\n",
    "\n",
    "\n",
    "\n",
    "# test cases\n",
    "print(is_prime(2))      # Output: True\n",
    "print(is_prime(10))     # Output: False\n",
    "print(is_prime(17))     # Output: True\n",
    "print(is_prime(9))\n",
    "print(is_prime(21))\n",
    "print(is_prime(-3))"
   ]
  },
  {
   "cell_type": "markdown",
   "metadata": {
    "id": "Z6qg-fpQD04u"
   },
   "source": [
    "## 4. List Comprehension\n",
    "\n",
    "(10 points) Write a Python function called `prime_factors` that takes a relatively small integer as input and returns a list of its distinct prime factors. The function should use list comprehension to generate the list of distinct prime factors. You may use the function is_prime() defined in Q3.\n"
   ]
  },
  {
   "cell_type": "code",
   "execution_count": 17,
   "metadata": {
    "colab": {
     "base_uri": "https://localhost:8080/"
    },
    "id": "2hSCjYlOD04v",
    "outputId": "1024d2e2-7d24-4e65-9529-e5a82d2a3211"
   },
   "outputs": [
    {
     "name": "stdout",
     "output_type": "stream",
     "text": [
      "[2, 3, 5]\n",
      "[2, 7]\n",
      "[2, 3, 11]\n",
      "[2, 29]\n",
      "[2]\n"
     ]
    }
   ],
   "source": [
    "def prime_factors(n):\n",
    "    result = [] # Create an empty list to store the prime factors\n",
    "    \n",
    "     # Iterate through numbers from 2 to n\n",
    "    for i in range(2,n+1):\n",
    "        \n",
    "        #  check if n is divisible by i and if i is prime number\n",
    "        if n % i == 0 and is_prime(i):\n",
    "            # if both conditions are met, add \"i\" to the list of prime factors\n",
    "                result.append(i)\n",
    "    return result\n",
    "    \n",
    "\n",
    "\n",
    "# test cases\n",
    "print(prime_factors(30))  # Output: [2, 3, 5]\n",
    "print(prime_factors(56))  # Output: [2, 7]\n",
    "print(prime_factors(198))  # Output: [2, 3, 11]\n",
    "print(prime_factors(464))  # Output: [2, 29]\n",
    "print(prime_factors(2))\n"
   ]
  },
  {
   "cell_type": "markdown",
   "metadata": {
    "id": "dw4kZZCiD040"
   },
   "source": [
    "## 5. Recursive Functions\n",
    "(25 points) Write a function that uses recursion to generate the $n$th row of the Pascal's triangle.\n",
    "```\n",
    "              1\n",
    "           1     1\n",
    "        1     2     1\n",
    "      1    3     3     1\n",
    "   1    4     6     4    1\n",
    "1     5    10    10    5    1\n",
    "...\n",
    "...\n",
    "...\n",
    "```"
   ]
  },
  {
   "cell_type": "code",
   "execution_count": 16,
   "metadata": {
    "colab": {
     "base_uri": "https://localhost:8080/"
    },
    "id": "V8QFB_gKD040",
    "outputId": "4946dc49-2061-4057-e65d-9f48af44dac9"
   },
   "outputs": [
    {
     "name": "stdout",
     "output_type": "stream",
     "text": [
      "[1, 5, 10, 10, 5, 1]\n",
      "[1, 6, 15, 20, 15, 6, 1]\n"
     ]
    }
   ],
   "source": [
    "def pascal(n):\n",
    "    \n",
    "    # create a empty list to store nth row\n",
    "    result = []\n",
    "    \n",
    "    \n",
    "    # first row\n",
    "    if n == 1:\n",
    "        return [1]\n",
    "    \n",
    "    # second row\n",
    "    elif n == 2:\n",
    "        return [1, 1]\n",
    "    \n",
    "    \n",
    "    \n",
    "    # calculate nth row (n is greater than or equal 3)\n",
    "    else:\n",
    "        original_row = pascal(n-1) # Recursively calculate the (n-1)th row\n",
    "        result.append(1) # initialize first element(1) \n",
    "        \n",
    "        # calculate each element(from 2nd~n-1 element) by adding the two adjacent elements from the (n-1)th row\n",
    "        for i in range(1,n-1):\n",
    "            result.append(original_row[i-1]+original_row[i])\n",
    "            \n",
    "        # append the last element (1) to the result row  \n",
    "        result.append(1)\n",
    "    \n",
    "    \n",
    "   \n",
    "    return result\n",
    "                \n",
    "        \n",
    "\n",
    "\n",
    "\n",
    "\n",
    "# test case\n",
    "print(pascal(6))  # output [1, 5, 10, 10, 5, 1]\n",
    "print(pascal(7))"
   ]
  },
  {
   "cell_type": "markdown",
   "metadata": {
    "id": "eZytgm0qD041"
   },
   "source": [
    "Rewrite the above function using only `while` or `for` loops instead of recursion."
   ]
  },
  {
   "cell_type": "code",
   "execution_count": 17,
   "metadata": {
    "colab": {
     "base_uri": "https://localhost:8080/"
    },
    "id": "UZ8f-akaD041",
    "outputId": "68ec5672-a40f-493f-e725-68b7471e76bc"
   },
   "outputs": [
    {
     "name": "stdout",
     "output_type": "stream",
     "text": [
      "[1]\n",
      "[1, 1]\n",
      "[1, 5, 10, 10, 5, 1]\n",
      "[1, 6, 15, 20, 15, 6, 1]\n"
     ]
    }
   ],
   "source": [
    "def pascal_by_loops(n):\n",
    "    result = [] # Initialize the result list.\n",
    "    new_result = [] # Initialize the new_result list.\n",
    "    \n",
    "    # if n is 1. --> first row\n",
    "    if n == 1:\n",
    "        result.append(1)\n",
    "        new_result = result\n",
    "        \n",
    "    # second row    \n",
    "    elif n == 2:\n",
    "            \n",
    "        result.append(1)\n",
    "        result.append(1)\n",
    "        new_result = result\n",
    "        \n",
    "    # if n >= 3,    \n",
    "    else:\n",
    "        result = [1, 1] # Initialize  the first two elements of Pascal's Triangle.\n",
    "        \n",
    "        # Loop to calculate the elements of the nth row.\n",
    "        for i in range(1,n-1): \n",
    "            new_result = [1] # initialize first element (1)\n",
    "            \n",
    "            # calculate each element(from 2nd~n-1 element)\n",
    "            for j in range(i): \n",
    "                new_result.append(result[j]+result[j+1]) \n",
    "            result = new_result\n",
    "            result.append(1) # append the last element (1) to the result row\n",
    "            \n",
    "            \n",
    "    return new_result\n",
    "            \n",
    "        \n",
    "        \n",
    "\n",
    "\n",
    "print(pascal_by_loops(1))\n",
    "print(pascal_by_loops(2))\n",
    "print(pascal_by_loops(6))\n",
    "print(pascal_by_loops(7))"
   ]
  },
  {
   "cell_type": "markdown",
   "metadata": {
    "id": "HvHD6QHzVo9I"
   },
   "source": [
    "\n",
    "\n",
    "---\n",
    "\n",
    "\n",
    "（5 points) good coding practice and properly submitting your work to GitHub."
   ]
  },
  {
   "cell_type": "code",
   "execution_count": null,
   "metadata": {},
   "outputs": [],
   "source": []
  }
 ],
 "metadata": {
  "anaconda-cloud": {},
  "colab": {
   "provenance": []
  },
  "kernelspec": {
   "display_name": "Python 3 (ipykernel)",
   "language": "python",
   "name": "python3"
  },
  "language_info": {
   "codemirror_mode": {
    "name": "ipython",
    "version": 3
   },
   "file_extension": ".py",
   "mimetype": "text/x-python",
   "name": "python",
   "nbconvert_exporter": "python",
   "pygments_lexer": "ipython3",
   "version": "3.9.13"
  }
 },
 "nbformat": 4,
 "nbformat_minor": 1
}
